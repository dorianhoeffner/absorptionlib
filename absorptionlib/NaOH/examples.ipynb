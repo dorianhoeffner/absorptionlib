{
 "cells": [
  {
   "cell_type": "code",
   "execution_count": 4,
   "id": "c0d29425",
   "metadata": {},
   "outputs": [
    {
     "name": "stdout",
     "output_type": "stream",
     "text": [
      "Requirement already satisfied: absorptionlib in /Users/dorianhoffner/anaconda3/lib/python3.10/site-packages (1.0.10)\n",
      "Collecting absorptionlib\n",
      "  Downloading absorptionlib-1.0.11-py3-none-any.whl (42 kB)\n",
      "\u001b[2K     \u001b[90m━━━━━━━━━━━━━━━━━━━━━━━━━━━━━━━━━━━━━━━━\u001b[0m \u001b[32m42.9/42.9 kB\u001b[0m \u001b[31m2.1 MB/s\u001b[0m eta \u001b[36m0:00:00\u001b[0m\n",
      "\u001b[?25hRequirement already satisfied: pyXSteam in /Users/dorianhoffner/anaconda3/lib/python3.10/site-packages (from absorptionlib) (0.4.9)\n",
      "Requirement already satisfied: numpy in /Users/dorianhoffner/anaconda3/lib/python3.10/site-packages (from absorptionlib) (1.23.5)\n",
      "Requirement already satisfied: matplotlib in /Users/dorianhoffner/anaconda3/lib/python3.10/site-packages (from absorptionlib) (3.7.0)\n",
      "Requirement already satisfied: pyparsing>=2.3.1 in /Users/dorianhoffner/anaconda3/lib/python3.10/site-packages (from matplotlib->absorptionlib) (3.0.9)\n",
      "Requirement already satisfied: kiwisolver>=1.0.1 in /Users/dorianhoffner/anaconda3/lib/python3.10/site-packages (from matplotlib->absorptionlib) (1.4.4)\n",
      "Requirement already satisfied: contourpy>=1.0.1 in /Users/dorianhoffner/anaconda3/lib/python3.10/site-packages (from matplotlib->absorptionlib) (1.0.5)\n",
      "Requirement already satisfied: python-dateutil>=2.7 in /Users/dorianhoffner/anaconda3/lib/python3.10/site-packages (from matplotlib->absorptionlib) (2.8.2)\n",
      "Requirement already satisfied: packaging>=20.0 in /Users/dorianhoffner/anaconda3/lib/python3.10/site-packages (from matplotlib->absorptionlib) (22.0)\n",
      "Requirement already satisfied: cycler>=0.10 in /Users/dorianhoffner/anaconda3/lib/python3.10/site-packages (from matplotlib->absorptionlib) (0.11.0)\n",
      "Requirement already satisfied: fonttools>=4.22.0 in /Users/dorianhoffner/anaconda3/lib/python3.10/site-packages (from matplotlib->absorptionlib) (4.25.0)\n",
      "Requirement already satisfied: pillow>=6.2.0 in /Users/dorianhoffner/anaconda3/lib/python3.10/site-packages (from matplotlib->absorptionlib) (9.4.0)\n",
      "Requirement already satisfied: six>=1.5 in /Users/dorianhoffner/anaconda3/lib/python3.10/site-packages (from python-dateutil>=2.7->matplotlib->absorptionlib) (1.16.0)\n",
      "Installing collected packages: absorptionlib\n",
      "  Attempting uninstall: absorptionlib\n",
      "    Found existing installation: absorptionlib 1.0.10\n",
      "    Uninstalling absorptionlib-1.0.10:\n",
      "      Successfully uninstalled absorptionlib-1.0.10\n",
      "Successfully installed absorptionlib-1.0.11\n",
      "Note: you may need to restart the kernel to use updated packages.\n"
     ]
    }
   ],
   "source": [
    "%pip install -U absorptionlib"
   ]
  },
  {
   "cell_type": "code",
   "execution_count": 2,
   "id": "4cb70dff",
   "metadata": {},
   "outputs": [],
   "source": [
    "#%pip uninstall absorptionlib -y"
   ]
  },
  {
   "cell_type": "code",
   "execution_count": 1,
   "id": "c10761db",
   "metadata": {},
   "outputs": [],
   "source": [
    "from absorptionlib import NaOH, LiBr, LiCl, CaCl2"
   ]
  },
  {
   "cell_type": "code",
   "execution_count": 2,
   "id": "ec0ed98a",
   "metadata": {},
   "outputs": [],
   "source": [
    "# from absorptionlib import NaOH, LiCl, CaCl2, LiBr\n",
    "import matplotlib.pyplot as plt\n",
    "# import sys\n",
    "# # IMPORT THERMOPHYSICAL PROPERTIES\n",
    "# sys.path.append(\"/Users/dorianhoffner/Nextcloud/obsidian_vaults/BEST/02_Project_Files/Repositories/substance-property-functions/absorptionlib\")\n",
    "\n",
    "\n",
    "\n",
    "# matplotlib font to geogia\n",
    "plt.rcParams['font.family'] = 'Georgia'\n",
    "plt.rcParams['mathtext.fontset'] = 'custom'\n",
    "plt.rcParams['mathtext.rm'] = 'Georgia'\n",
    "plt.rcParams['mathtext.it'] = 'Georgia:italic'"
   ]
  },
  {
   "cell_type": "code",
   "execution_count": 3,
   "id": "22c81e42",
   "metadata": {},
   "outputs": [
    {
     "name": "stdout",
     "output_type": "stream",
     "text": [
      "\n",
      "This module contains functions for calculating properties of LiBr-H2O solutions:\n",
      "\n",
      "| Function Name              | Description                                                                                   |\n",
      "|---------------------------|------------------------------------------------------------------------------------------------|\n",
      "| saturation_temperature    | Calculate the boiling point temperature of an aqueous Lithium Bromide solution.                |\n",
      "| enthalpy_PK               | Calculate h'(T) based on the given equation.                                                   |\n",
      "| enthalpy                  | Calculate the enthalpy of an H2O-LiBr solution at a given temperature and concentration.       |\n",
      "| saturation_pressure       | Calculate the equilibrium pressure of an H2O-LiBr solution.                                    |\n",
      "| saturation_concentration  | Calculates the saturation concentration of LiBr in water based on the temperature and pressure.|\n",
      "| density                   | Calculate the density of a water-LiBr solution.                                                |\n",
      "| hxDiagram                 | Plots the pressure-temperature diagram for LiBr-H2O solutions.                                 |\n",
      "| pTDiagram                 | Plots the pressure-temperature diagram for LiBr-H2O solutions.                                 |\n",
      "| solubility_temperature    | Calculate the crystallization temperature of LiBr solution in water.                           |\n",
      "\n",
      "For more information use the following function: LiBr.explain(\"function_name\")\n",
      "\n",
      "For example: LiBr.explain(\"enthalpy\")\n",
      "    \n"
     ]
    }
   ],
   "source": [
    "LiBr.documentation()"
   ]
  },
  {
   "cell_type": "code",
   "execution_count": 4,
   "id": "c12fbb80",
   "metadata": {},
   "outputs": [
    {
     "name": "stdout",
     "output_type": "stream",
     "text": [
      "\n",
      "    Calculates the enthalpy of an aqueous NaOH-H2O solution at high concentrations.\n",
      "\n",
      "    Parameter:\n",
      "        T in [°C]\n",
      "        x = m_NaOH/(m_H2O + m_NaOH)\n",
      "        h in [kJ/kg]\n",
      "        prevent_errors: If True, suppresses errors and returns NaN/None for invalid inputs.\n",
      "\n",
      "    Returns:\n",
      "        h (float): Enthalpy in [kJ/kg].\n",
      "\n",
      "    Wertebereich: t in Grad Celsius!\n",
      "    0<=t<4\t\t\t0.780 <=xi<=1\n",
      "    4=<t<10\t        0.680<=xi<=1\n",
      "    10=<t<15\t\t0.580<=xi<=1\n",
      "    15=<t<26\t\t0.540<=xi<=1\n",
      "    26 =<t<37\t\t0.440<=xi<=1\n",
      "    37=<t<48\t\t0.400<=xi<=1\n",
      "    48=<t<60\t\t0.340<=xi<=1\n",
      "    60=<t<71\t\t0.300<=xi<=1\n",
      "    71=<t<82\t\t0.280<=xi<=1\n",
      "    82=<t<93\t\t0.240<=xi<=1\n",
      "    93=< t=<204\t0.220<=xi<=1\n",
      "    \n",
      "    Last Change: brought to python by Dorian Höffner\n",
      "    Autor: \tRoman Ziegenhardt\n",
      "    Quelle: \tThermophysical Properties of Aqueous NaOH-H2O Solutions at High Concentrations, J. OIsson, A. Jernqvist, G. Aly, \n",
      "    \t\tInternational Journal of Thermophysics Vol. 18. No. 3. 1997\n",
      "    zuletzt geändert: Elisabeth Thiele: Temperatur in °C und salt mass\n",
      "    fraction statt water mass fraction\n",
      "    \n",
      "    \n"
     ]
    }
   ],
   "source": [
    "NaOH.explain(\"enthalpy\")"
   ]
  },
  {
   "cell_type": "code",
   "execution_count": 5,
   "id": "caf6598b",
   "metadata": {},
   "outputs": [
    {
     "data": {
      "text/plain": [
       "10.867946904000007"
      ]
     },
     "execution_count": 5,
     "metadata": {},
     "output_type": "execute_result"
    }
   ],
   "source": [
    "CaCl2.solubility_temperature(0.4)"
   ]
  }
 ],
 "metadata": {
  "kernelspec": {
   "display_name": "base",
   "language": "python",
   "name": "python3"
  },
  "language_info": {
   "codemirror_mode": {
    "name": "ipython",
    "version": 3
   },
   "file_extension": ".py",
   "mimetype": "text/x-python",
   "name": "python",
   "nbconvert_exporter": "python",
   "pygments_lexer": "ipython3",
   "version": "3.10.9"
  }
 },
 "nbformat": 4,
 "nbformat_minor": 5
}
